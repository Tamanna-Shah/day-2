{
 "cells": [
  {
   "cell_type": "code",
   "execution_count": 1,
   "id": "228c4037",
   "metadata": {},
   "outputs": [
    {
     "ename": "SyntaxError",
     "evalue": "invalid syntax (2096233582.py, line 1)",
     "output_type": "error",
     "traceback": [
      "\u001b[1;36m  Input \u001b[1;32mIn [1]\u001b[1;36m\u001b[0m\n\u001b[1;33m    understanding the variable in Python\u001b[0m\n\u001b[1;37m                  ^\u001b[0m\n\u001b[1;31mSyntaxError\u001b[0m\u001b[1;31m:\u001b[0m invalid syntax\n"
     ]
    }
   ],
   "source": [
    "understanding the variable in Python:"
   ]
  },
  {
   "cell_type": "code",
   "execution_count": 4,
   "id": "f63438b1",
   "metadata": {},
   "outputs": [],
   "source": [
    "x=3\n",
    "\n",
    "y=2"
   ]
  },
  {
   "cell_type": "code",
   "execution_count": 5,
   "id": "7f9f05a8",
   "metadata": {},
   "outputs": [
    {
     "name": "stdout",
     "output_type": "stream",
     "text": [
      "5\n"
     ]
    }
   ],
   "source": [
    "z=x+y\n",
    "print(z)"
   ]
  },
  {
   "cell_type": "code",
   "execution_count": null,
   "id": "b4ddc9e5",
   "metadata": {},
   "outputs": [],
   "source": [
    "Rule for declaring the variable in Python\n",
    "Rule 1 : no namespaces while declaring the variable name."
   ]
  },
  {
   "cell_type": "code",
   "execution_count": null,
   "id": "f02a365f",
   "metadata": {},
   "outputs": [],
   "source": [
    "first name='azim'"
   ]
  },
  {
   "cell_type": "code",
   "execution_count": 6,
   "id": "721ee0a4",
   "metadata": {},
   "outputs": [
    {
     "ename": "SyntaxError",
     "evalue": "invalid syntax (3852772612.py, line 1)",
     "output_type": "error",
     "traceback": [
      "\u001b[1;36m  Input \u001b[1;32mIn [6]\u001b[1;36m\u001b[0m\n\u001b[1;33m    print(first name)\u001b[0m\n\u001b[1;37m                ^\u001b[0m\n\u001b[1;31mSyntaxError\u001b[0m\u001b[1;31m:\u001b[0m invalid syntax\n"
     ]
    }
   ],
   "source": [
    "print(first name)"
   ]
  },
  {
   "cell_type": "code",
   "execution_count": 8,
   "id": "8d6a60ec",
   "metadata": {},
   "outputs": [
    {
     "name": "stdout",
     "output_type": "stream",
     "text": [
      "azim\n"
     ]
    }
   ],
   "source": [
    "firstname='azim'\n",
    "print(firstname)"
   ]
  },
  {
   "cell_type": "code",
   "execution_count": 9,
   "id": "8da0b851",
   "metadata": {},
   "outputs": [
    {
     "ename": "SyntaxError",
     "evalue": "invalid syntax (3098347785.py, line 1)",
     "output_type": "error",
     "traceback": [
      "\u001b[1;36m  Input \u001b[1;32mIn [9]\u001b[1;36m\u001b[0m\n\u001b[1;33m    1name='ravi'\u001b[0m\n\u001b[1;37m     ^\u001b[0m\n\u001b[1;31mSyntaxError\u001b[0m\u001b[1;31m:\u001b[0m invalid syntax\n"
     ]
    }
   ],
   "source": [
    "1name='ravi'\n",
    "print(1name)"
   ]
  },
  {
   "cell_type": "code",
   "execution_count": 10,
   "id": "53963708",
   "metadata": {},
   "outputs": [
    {
     "name": "stdout",
     "output_type": "stream",
     "text": [
      "ravi\n"
     ]
    }
   ],
   "source": [
    "name1='ravi'\n",
    "print(name1)"
   ]
  },
  {
   "cell_type": "code",
   "execution_count": 11,
   "id": "4358586a",
   "metadata": {},
   "outputs": [
    {
     "name": "stdout",
     "output_type": "stream",
     "text": [
      "tom\n"
     ]
    }
   ],
   "source": [
    "name2=\"tom\"\n",
    "print(name2)"
   ]
  },
  {
   "cell_type": "code",
   "execution_count": 12,
   "id": "076f53ac",
   "metadata": {},
   "outputs": [
    {
     "name": "stdout",
     "output_type": "stream",
     "text": [
      "jerry\n"
     ]
    }
   ],
   "source": [
    "name3=\"jerry\"\n",
    "print(name3)"
   ]
  },
  {
   "cell_type": "code",
   "execution_count": 13,
   "id": "461e9d23",
   "metadata": {},
   "outputs": [
    {
     "data": {
      "text/plain": [
       "str"
      ]
     },
     "execution_count": 13,
     "metadata": {},
     "output_type": "execute_result"
    }
   ],
   "source": [
    "type(name)"
   ]
  },
  {
   "cell_type": "code",
   "execution_count": 16,
   "id": "865e435b",
   "metadata": {},
   "outputs": [
    {
     "name": "stdout",
     "output_type": "stream",
     "text": [
      "ravi kumar\n"
     ]
    }
   ],
   "source": [
    "fullname='ravi kumar'\n",
    "print(fullname)"
   ]
  },
  {
   "cell_type": "code",
   "execution_count": 17,
   "id": "fa44ed81",
   "metadata": {},
   "outputs": [
    {
     "name": "stdout",
     "output_type": "stream",
     "text": [
      "Ravi Kumar\n"
     ]
    }
   ],
   "source": [
    "print(fullname.title())"
   ]
  },
  {
   "cell_type": "code",
   "execution_count": 18,
   "id": "9db36c51",
   "metadata": {},
   "outputs": [
    {
     "name": "stdout",
     "output_type": "stream",
     "text": [
      "RAVI KUMAR\n"
     ]
    }
   ],
   "source": [
    "print(fullname.upper())"
   ]
  },
  {
   "cell_type": "code",
   "execution_count": 19,
   "id": "42bbd881",
   "metadata": {},
   "outputs": [
    {
     "name": "stdout",
     "output_type": "stream",
     "text": [
      "ravi kumar\n"
     ]
    }
   ],
   "source": [
    "print(fullname.lower())"
   ]
  },
  {
   "cell_type": "code",
   "execution_count": null,
   "id": "62746c5c",
   "metadata": {},
   "outputs": [],
   "source": [
    "Thank you"
   ]
  }
 ],
 "metadata": {
  "kernelspec": {
   "display_name": "Python 3 (ipykernel)",
   "language": "python",
   "name": "python3"
  },
  "language_info": {
   "codemirror_mode": {
    "name": "ipython",
    "version": 3
   },
   "file_extension": ".py",
   "mimetype": "text/x-python",
   "name": "python",
   "nbconvert_exporter": "python",
   "pygments_lexer": "ipython3",
   "version": "3.9.12"
  }
 },
 "nbformat": 4,
 "nbformat_minor": 5
}
